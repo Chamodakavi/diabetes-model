{
  "cells": [
    {
      "cell_type": "code",
      "execution_count": 1,
      "metadata": {
        "id": "VAF6vJ2Q4EFp"
      },
      "outputs": [
        {
          "ename": "ModuleNotFoundError",
          "evalue": "No module named 'pandas'",
          "output_type": "error",
          "traceback": [
            "\u001b[31m---------------------------------------------------------------------------\u001b[39m",
            "\u001b[31mModuleNotFoundError\u001b[39m                       Traceback (most recent call last)",
            "\u001b[36mCell\u001b[39m\u001b[36m \u001b[39m\u001b[32mIn[1]\u001b[39m\u001b[32m, line 1\u001b[39m\n\u001b[32m----> \u001b[39m\u001b[32m1\u001b[39m \u001b[38;5;28;01mimport\u001b[39;00m\u001b[38;5;250m \u001b[39m\u001b[34;01mpandas\u001b[39;00m\u001b[38;5;250m \u001b[39m\u001b[38;5;28;01mas\u001b[39;00m\u001b[38;5;250m \u001b[39m\u001b[34;01mpd\u001b[39;00m\n\u001b[32m      2\u001b[39m \u001b[38;5;28;01mimport\u001b[39;00m\u001b[38;5;250m \u001b[39m\u001b[34;01mnumpy\u001b[39;00m\u001b[38;5;250m \u001b[39m\u001b[38;5;28;01mas\u001b[39;00m\u001b[38;5;250m \u001b[39m\u001b[34;01mnp\u001b[39;00m\n\u001b[32m      3\u001b[39m \u001b[38;5;28;01mimport\u001b[39;00m\u001b[38;5;250m \u001b[39m\u001b[34;01mmatplotlib\u001b[39;00m\u001b[34;01m.\u001b[39;00m\u001b[34;01mpyplot\u001b[39;00m\u001b[38;5;250m \u001b[39m\u001b[38;5;28;01mas\u001b[39;00m\u001b[38;5;250m \u001b[39m\u001b[34;01mplt\u001b[39;00m\n",
            "\u001b[31mModuleNotFoundError\u001b[39m: No module named 'pandas'"
          ]
        }
      ],
      "source": [
        "import pandas as pd\n",
        "import numpy as np\n",
        "import matplotlib.pyplot as plt\n",
        "import seaborn as sns\n",
        "import kagglehub"
      ]
    },
    {
      "cell_type": "code",
      "execution_count": null,
      "metadata": {
        "colab": {
          "base_uri": "https://localhost:8080/"
        },
        "id": "1WfAZ06I3r8A",
        "outputId": "e3622344-06a9-4d2d-fad5-37468d50ee68"
      },
      "outputs": [],
      "source": [
        "# Download latest version\n",
        "path = kagglehub.dataset_download(\"hasibur013/diabetes-dataset\")\n",
        "\n",
        "print(\"Path to dataset files:\", path)"
      ]
    },
    {
      "cell_type": "code",
      "execution_count": null,
      "metadata": {
        "id": "zHCORBKo4-5N"
      },
      "outputs": [],
      "source": [
        "df = pd.read_csv(f'{path}/diabetes_dataset.csv')"
      ]
    },
    {
      "cell_type": "markdown",
      "metadata": {
        "id": "M7ozOeax56Jz"
      },
      "source": [
        "# Data Analysis and Preprocessing"
      ]
    },
    {
      "cell_type": "code",
      "execution_count": null,
      "metadata": {
        "colab": {
          "base_uri": "https://localhost:8080/",
          "height": 206
        },
        "id": "kpaqcj__5JOS",
        "outputId": "adddbc92-edf2-4eed-d65a-467d7ac38e55"
      },
      "outputs": [],
      "source": [
        "df.head()"
      ]
    },
    {
      "cell_type": "code",
      "execution_count": null,
      "metadata": {
        "colab": {
          "base_uri": "https://localhost:8080/",
          "height": 320
        },
        "id": "JOOPmsTb-qj3",
        "outputId": "28ad4673-0146-4e5d-ea71-196743deb447"
      },
      "outputs": [],
      "source": [
        "df.describe()"
      ]
    },
    {
      "cell_type": "code",
      "execution_count": null,
      "metadata": {
        "colab": {
          "base_uri": "https://localhost:8080/"
        },
        "id": "J3UzUP8D5lG6",
        "outputId": "05771b84-34f5-4908-da68-4add9567ae97"
      },
      "outputs": [],
      "source": [
        "df.info()"
      ]
    },
    {
      "cell_type": "code",
      "execution_count": null,
      "metadata": {
        "colab": {
          "base_uri": "https://localhost:8080/"
        },
        "id": "UT5CLYc45rfF",
        "outputId": "3372e053-b092-4ed8-fa96-58c9b262ac61"
      },
      "outputs": [],
      "source": [
        "df.shape"
      ]
    },
    {
      "cell_type": "code",
      "execution_count": null,
      "metadata": {
        "colab": {
          "base_uri": "https://localhost:8080/"
        },
        "id": "dhbSHrxn-l6g",
        "outputId": "793406d1-1b68-4f31-ba26-a9362681e1f2"
      },
      "outputs": [],
      "source": [
        "bmi_zero = df[df['BMI'] == 0]\n",
        "print(\"Number of rows where BMI is zero:\", len(bmi_zero))\n",
        "print('\\n')\n",
        "print(bmi_zero)"
      ]
    },
    {
      "cell_type": "code",
      "execution_count": null,
      "metadata": {
        "colab": {
          "base_uri": "https://localhost:8080/"
        },
        "id": "7SNcDTScA71-",
        "outputId": "b166d651-d417-4153-deb3-bf6aef6a6b3d"
      },
      "outputs": [],
      "source": [
        "cols = ['BMI' , 'Glucose' , 'BloodPressure' , 'SkinThickness' , 'Insulin']\n",
        "\n",
        "for col in cols:\n",
        "    zero_counts = (df[col]==0).sum()\n",
        "    print(f\"Number of rows where {col} is zero: {zero_counts}\")"
      ]
    },
    {
      "cell_type": "markdown",
      "metadata": {
        "id": "G7djPSjgGB8k"
      },
      "source": [
        "Dropping too many values is not a good practice because it can lead to significant data loss and reduce the quality of the dataset. In this dataset, it is better to replace zero values with the median, especially for features like SkinThickness, where missing or unrecorded values are common in medical reports. Using the median helps avoid the impact of outliers and maintains the integrity of the dataset without removing valuable information."
      ]
    },
    {
      "cell_type": "code",
      "execution_count": null,
      "metadata": {
        "colab": {
          "base_uri": "https://localhost:8080/"
        },
        "id": "ura6iS7mD-5j",
        "outputId": "2a383fc2-8d27-4801-ccd7-88a1310c5fcf"
      },
      "outputs": [],
      "source": [
        "for col in cols:\n",
        "    median_value = df[df[col] != 0][col].median() #get median value where value is not equel 0\n",
        "    df.loc[df[col] == 0, col] = median_value #replace those values into 0 value places\n",
        "    print(f\"replace {col} zeros with median value: {median_value}\")"
      ]
    },
    {
      "cell_type": "code",
      "execution_count": null,
      "metadata": {
        "colab": {
          "base_uri": "https://localhost:8080/"
        },
        "id": "j-urZCl8FpOe",
        "outputId": "7373d865-d252-47cc-b756-32ba2bb597cd"
      },
      "outputs": [],
      "source": [
        "for col in cols:\n",
        "    zero_count = (df[col]== 0).sum()\n",
        "    print(f\"Number of rows where {col} is zero: {zero_count}\")"
      ]
    },
    {
      "cell_type": "code",
      "execution_count": null,
      "metadata": {
        "colab": {
          "base_uri": "https://localhost:8080/"
        },
        "id": "1SUhruCRHSXo",
        "outputId": "73445444-5c76-45d0-ca22-729c42525eeb"
      },
      "outputs": [],
      "source": [
        "cols_2 = ['DiabetesPedigreeFunction' , 'Age']\n",
        "\n",
        "for col in cols_2:\n",
        "    zero_values = (df[col]==0).sum()\n",
        "    print(f\"Number of rows where {col} is zero: {zero_values}\")"
      ]
    },
    {
      "cell_type": "code",
      "execution_count": null,
      "metadata": {
        "colab": {
          "base_uri": "https://localhost:8080/",
          "height": 472
        },
        "id": "2hmbuyeJLpIF",
        "outputId": "2159ab65-7032-4913-f87b-7c9edda966cd"
      },
      "outputs": [],
      "source": [
        "sns.histplot(df['Glucose'], kde=True)\n",
        "plt.title('Glucose Distribution')\n",
        "plt.xlabel('Glucose Level')\n",
        "plt.ylabel('Number of People')\n",
        "plt.show()"
      ]
    },
    {
      "cell_type": "code",
      "execution_count": null,
      "metadata": {
        "colab": {
          "base_uri": "https://localhost:8080/",
          "height": 472
        },
        "id": "H_48NQaoZZO7",
        "outputId": "3589c390-eefc-4a38-bad4-f67342582123"
      },
      "outputs": [],
      "source": [
        "sns.histplot(df['BMI'], kde=True)\n",
        "plt.title('BMI Distribution')\n",
        "plt.xlabel('BMI')\n",
        "plt.ylabel('Number of People')\n",
        "plt.show()"
      ]
    },
    {
      "cell_type": "markdown",
      "metadata": {
        "id": "YrsqA5K0Q7bG"
      },
      "source": [
        "👩‍🏫 What You’re Seeing\n",
        "📦 Two Boxes = Two Groups:\n",
        "Left box (0) → People without diabetes\n",
        "\n",
        "Right box (1) → People with diabetes\n",
        "\n",
        "🔢 Y-Axis = Glucose Levels\n",
        "It goes from about 40 to 200.\n",
        "\n",
        "That’s how much sugar is in the blood.\n",
        "\n",
        "✅ 1. The Line Inside the Box (the Median):\n",
        "Left box: around 110\n",
        "\n",
        "Right box: around 140\n",
        "\n",
        "➤ People with diabetes tend to have higher glucose levels\n",
        "\n",
        "✅ 2. The Box (middle 50% of people):\n",
        "It shows where most people are.\n",
        "\n",
        "Box for people with diabetes is higher and wider, meaning:\n",
        "\n",
        "Their glucose levels are usually higher\n",
        "\n",
        "There's more variation\n",
        "\n",
        "✅ 3. The Whiskers (lines above & below the box):\n",
        "Show the range of glucose values, except for outliers.\n",
        "\n",
        "People without diabetes can have glucose as low as 50–60\n",
        "\n",
        "People with diabetes usually stay above 90–100\n",
        "\n",
        "✅ 4. The Dots (⚫ Outliers):\n",
        "These are people whose glucose is much higher or lower than average\n",
        "\n",
        "In the left group (no diabetes), some have glucose over 180 — rare, but happens.\n",
        "\n",
        "In the right group (with diabetes), fewer outliers because their high values are more normal in that group.\n",
        "\n",
        "👶 Super Simple Summary:\n",
        "People with diabetes (right box) usually have higher blood sugar, and the box proves it.\n",
        "Most of their values are between 120 and 180,\n",
        "while people without diabetes are mostly between 90 and 130."
      ]
    },
    {
      "cell_type": "code",
      "execution_count": null,
      "metadata": {
        "colab": {
          "base_uri": "https://localhost:8080/",
          "height": 472
        },
        "id": "H15foKw3PsGq",
        "outputId": "de062ad0-09db-4a99-95cf-d1a697f9f69e"
      },
      "outputs": [],
      "source": [
        "sns.boxplot(x='Outcome', y='Glucose', data=df)\n",
        "plt.title('Glucose Levels by Diabetes Outcome')\n",
        "plt.xlabel('Diabetes (0 = No, 1 = Yes)')\n",
        "plt.ylabel('Glucose Level')\n",
        "plt.show()\n"
      ]
    },
    {
      "cell_type": "markdown",
      "metadata": {
        "id": "nPK5uxaqQxLM"
      },
      "source": [
        "👩‍🏫 What it shows:\n",
        "\n",
        "Left = people without diabetes\n",
        "\n",
        "Right = people with diabetes\n",
        "\n",
        "But now, instead of a box, it shows a shape\n",
        "\n",
        "Wider parts = more people have that value\n",
        "\n",
        "Narrow parts = fewer people"
      ]
    },
    {
      "cell_type": "code",
      "execution_count": null,
      "metadata": {
        "colab": {
          "base_uri": "https://localhost:8080/",
          "height": 472
        },
        "id": "XCzwP1tdQqum",
        "outputId": "00184b3b-3003-4d44-d0d9-0fe5b4ab0150"
      },
      "outputs": [],
      "source": [
        "sns.violinplot(x='Outcome', y='Glucose', data=df)\n",
        "plt.title('Glucose Distribution by Diabetes Outcome (Violin Plot)')\n",
        "plt.xlabel('Diabetes (0 = No, 1 = Yes)')\n",
        "plt.ylabel('Glucose Level')\n",
        "plt.show()\n"
      ]
    },
    {
      "cell_type": "markdown",
      "metadata": {
        "id": "Ykc1DhQRSxWZ"
      },
      "source": []
    },
    {
      "cell_type": "markdown",
      "metadata": {
        "id": "wxM8C8H8SZ6-"
      },
      "source": [
        "| Feature | If the right violin is taller or fatter | What it means             |\n",
        "| ------- | --------------------------------------- | ------------------------- |\n",
        "| BMI     | More diabetics have higher BMI          | Obesity is a risk factor  |\n",
        "| Age     | More diabetics are older                | Risk increases with age   |\n",
        "| Insulin | Might show mixed results                | Insulin levels vary a lot |\n"
      ]
    },
    {
      "cell_type": "code",
      "execution_count": null,
      "metadata": {
        "colab": {
          "base_uri": "https://localhost:8080/",
          "height": 472
        },
        "id": "8xugVHaQRKak",
        "outputId": "dab5fa7c-d006-4479-8be1-9bc49cdf4e04"
      },
      "outputs": [],
      "source": [
        "sns.violinplot(x='Outcome', y='BMI', data=df)\n",
        "plt.title('BMI Distribution by Diabetes Outcome (Violin Plot)')\n",
        "plt.xlabel('Diabetes (0 = No, 1 = Yes)')\n",
        "plt.ylabel('BMI')\n",
        "plt.show()\n"
      ]
    },
    {
      "cell_type": "code",
      "execution_count": null,
      "metadata": {
        "colab": {
          "base_uri": "https://localhost:8080/",
          "height": 472
        },
        "id": "t-sx_OEaR6NB",
        "outputId": "7cd96ae3-b73d-4bb9-f370-6f35991add47"
      },
      "outputs": [],
      "source": [
        "sns.violinplot(x='Outcome', y='Age', data=df)\n",
        "plt.title('Age Distribution by Diabetes Outcome (Violin Plot)')\n",
        "plt.xlabel('Diabetes (0 = No, 1 = Yes)')\n",
        "plt.ylabel('Age')\n",
        "plt.show()\n"
      ]
    },
    {
      "cell_type": "code",
      "execution_count": null,
      "metadata": {
        "colab": {
          "base_uri": "https://localhost:8080/",
          "height": 472
        },
        "id": "GGG9IKLbSIgS",
        "outputId": "da0d4f0d-f282-4038-ecb1-c16c51a4dbb0"
      },
      "outputs": [],
      "source": [
        "sns.violinplot(x='Outcome', y='Insulin', data=df)\n",
        "plt.title('Insulin Distribution by Diabetes Outcome (Violin Plot)')\n",
        "plt.xlabel('Diabetes (0 = No, 1 = Yes)')\n",
        "plt.ylabel('Insulin')\n",
        "plt.show()\n"
      ]
    },
    {
      "cell_type": "markdown",
      "metadata": {
        "id": "gmHcxxKXSzMo"
      },
      "source": [
        "| Feature     | Observation                              | What It Means                                 |\n",
        "| ----------- | ---------------------------------------- | --------------------------------------------- |\n",
        "| **Glucose** | Right side (diabetes) is taller & fatter | Diabetics have higher glucose                 |\n",
        "| **BMI**     | Right side is taller                     | Diabetics tend to have higher BMI             |\n",
        "| **Age**     | Right side is higher                     | Older people are more likely to have diabetes |\n",
        "| **Insulin** | Maybe unclear, more spread               | Insulin levels vary a lot, still useful       |\n"
      ]
    },
    {
      "cell_type": "markdown",
      "metadata": {
        "id": "Y2uqMN9_S6-G"
      },
      "source": [
        "I used violin plots to compare features between people with and without diabetes.\n",
        "\n",
        "For Glucose, the distribution for diabetic patients was much higher and wider, showing that high glucose levels are strongly associated with diabetes.\n",
        "\n",
        "For BMI, diabetic patients also had a wider and higher distribution, suggesting that higher BMI (obesity) may be a contributing factor.\n",
        "\n",
        "The Age plot showed that people with diabetes tend to be older.\n",
        "\n",
        "For Insulin, the distribution was more spread out and less clear, but still showed some difference in median values."
      ]
    },
    {
      "cell_type": "code",
      "execution_count": null,
      "metadata": {
        "colab": {
          "base_uri": "https://localhost:8080/"
        },
        "id": "wGMvOHZ4W2B5",
        "outputId": "bd7e832d-41d5-46d5-e4e0-c175018bdaca"
      },
      "outputs": [],
      "source": [
        "print(\"Glucose vs Outcome:\", df['Glucose'].corr(df['Outcome']))\n",
        "print(\"BMI vs Outcome:\", df['BMI'].corr(df['Outcome']))\n",
        "print(\"Age vs Outcome:\", df['Age'].corr(df['Outcome']))\n",
        "print(\"Insulin vs Outcome:\", df['Insulin'].corr(df['Outcome']))\n",
        "print(\"BloodPressure vs Outcome:\", df['BloodPressure'].corr(df['Outcome']))\n",
        "print(\"SkinThickness vs Outcome:\", df['SkinThickness'].corr(df['Outcome']))\n",
        "print(\"Pregnancies vs Outcome:\", df['Pregnancies'].corr(df['Outcome']))\n",
        "print(\"DiabetesPedigreeFunction vs Outcome:\", df['DiabetesPedigreeFunction'].corr(df['Outcome']))\n"
      ]
    },
    {
      "cell_type": "code",
      "execution_count": null,
      "metadata": {
        "colab": {
          "base_uri": "https://localhost:8080/",
          "height": 685
        },
        "id": "nURkLqlmXNCQ",
        "outputId": "f734580d-e65c-4dc1-cfdb-822716a34a18"
      },
      "outputs": [],
      "source": [
        "features = ['Glucose', 'BMI', 'Age', 'Insulin', 'BloodPressure',\n",
        "            'SkinThickness', 'Pregnancies', 'DiabetesPedigreeFunction']\n",
        "\n",
        "# Compute correlations with 'Outcome'\n",
        "correlations = [df[feature].corr(df['Outcome']) for feature in features]\n",
        "\n",
        "# Create a DataFrame for plotting\n",
        "corr_df = pd.DataFrame({\n",
        "    'Feature': features,\n",
        "    'Correlation with Outcome': correlations\n",
        "}).sort_values(by='Correlation with Outcome', ascending=False)\n",
        "\n",
        "# Plot\n",
        "plt.figure(figsize=(10, 6))\n",
        "sns.barplot(data=corr_df, x='Correlation with Outcome', y='Feature', palette='coolwarm')\n",
        "plt.title('Feature Correlation with Diabetes Outcome')\n",
        "plt.xlabel('Correlation Value')\n",
        "plt.ylabel('Feature')\n",
        "plt.grid(axis='x', linestyle='--', alpha=0.5)\n",
        "plt.tight_layout()\n",
        "plt.show()"
      ]
    },
    {
      "cell_type": "markdown",
      "metadata": {
        "id": "e-Ad0cAdbGSZ"
      },
      "source": [
        "BMI < 18.5 → Underweight\n",
        "\n",
        "18.5 ≤ BMI ≤ 24.9 → Normal\n",
        "\n",
        "25 ≤ BMI ≤ 29.9 → Overweight\n",
        "\n",
        "BMI ≥ 30 → Obese"
      ]
    },
    {
      "cell_type": "code",
      "execution_count": null,
      "metadata": {
        "colab": {
          "base_uri": "https://localhost:8080/"
        },
        "id": "6lNNALpKbFcR",
        "outputId": "da293a25-bbed-40d4-9700-421674636c26"
      },
      "outputs": [],
      "source": [
        "# Define BMI categories based on standard WHO cutoffs\n",
        "bins = [0, 18.5, 24.9, 29.9, 100]  # 100 as an upper bound just to cover all BMI values\n",
        "labels = ['Underweight', 'Normal', 'Overweight', 'Obese']\n",
        "\n",
        "# Create a new categorical column 'BMI_Category'\n",
        "df['BMI_Category'] = pd.cut(df['BMI'], bins=bins, labels=labels, right=True)\n",
        "\n",
        "# One-hot encoding\n",
        "df = pd.get_dummies(df, columns=['BMI_Category'], drop_first=False)\n",
        "\n",
        "print(df.head())"
      ]
    },
    {
      "cell_type": "code",
      "execution_count": null,
      "metadata": {
        "colab": {
          "base_uri": "https://localhost:8080/"
        },
        "id": "IPbUo6hSc1zZ",
        "outputId": "170d219d-2ab1-4eb6-89e7-e7922a838de9"
      },
      "outputs": [],
      "source": [
        "# Define bins and labels for Glucose\n",
        "glucose_bins = [0, 99, 125, 1000]  # 1000 just as an upper bound\n",
        "glucose_labels = ['Good', 'Broad', 'Bad']\n",
        "\n",
        "# Create a new categorical column 'Glucose_Category'\n",
        "df['Glucose_Category'] = pd.cut(df['Glucose'], bins=glucose_bins, labels=glucose_labels, right=True)\n",
        "\n",
        "df = pd.get_dummies(df, columns=['Glucose_Category'], drop_first=False)\n",
        "\n",
        "# Check the new column\n",
        "print(df.head())"
      ]
    },
    {
      "cell_type": "markdown",
      "metadata": {
        "id": "ma-xRsgArRbk"
      },
      "source": [
        "# **Logistic Regression**"
      ]
    },
    {
      "cell_type": "code",
      "execution_count": null,
      "metadata": {
        "colab": {
          "base_uri": "https://localhost:8080/"
        },
        "id": "9TIPUuDsX0C3",
        "outputId": "a56983cd-db30-4ee5-be38-33ab467c0169"
      },
      "outputs": [],
      "source": [
        "from sklearn.linear_model import LogisticRegression\n",
        "from sklearn.metrics import accuracy_score, classification_report, confusion_matrix\n",
        "from sklearn.model_selection import train_test_split\n",
        "\n",
        "# 1. Define features and target\n",
        "selected_features = [\n",
        "    'Age', 'BMI', 'Glucose', 'DiabetesPedigreeFunction',\n",
        "    'BMI_Category_Underweight', 'BMI_Category_Normal', 'BMI_Category_Overweight', 'BMI_Category_Obese',\n",
        "    'Glucose_Category_Good', 'Glucose_Category_Broad', 'Glucose_Category_Bad'\n",
        "]\n",
        "\n",
        "X = df[selected_features]\n",
        "y = df['Outcome']\n",
        "\n",
        "# 2. Split into train and test sets\n",
        "X_train, X_test, y_train, y_test = train_test_split(X, y, test_size=0.2, random_state=42)\n",
        "\n",
        "# Step 1: Train the model\n",
        "model = LogisticRegression(max_iter=1000, random_state=42)\n",
        "model.fit(X_train, y_train)\n",
        "\n",
        "# Step 2: Predict on the test set\n",
        "y_pred = model.predict(X_test)\n",
        "\n",
        "# Step 3: Evaluate the model\n",
        "accuracy = accuracy_score(y_test, y_pred)\n",
        "print(f\"Accuracy: {accuracy:.2f}\")\n",
        "\n",
        "print(\"Classification Report:\")\n",
        "print(classification_report(y_test, y_pred))\n",
        "\n",
        "print(\"Confusion Matrix:\")\n",
        "print(confusion_matrix(y_test, y_pred))"
      ]
    },
    {
      "cell_type": "markdown",
      "metadata": {
        "id": "8dXDmx-Yrctw"
      },
      "source": [
        "# Random Forest"
      ]
    },
    {
      "cell_type": "code",
      "execution_count": null,
      "metadata": {
        "colab": {
          "base_uri": "https://localhost:8080/"
        },
        "id": "gKMnVBOwrgbk",
        "outputId": "03955ebb-f6ad-485d-9b2d-606228ab6b5b"
      },
      "outputs": [],
      "source": [
        "from sklearn.ensemble import RandomForestClassifier\n",
        "from sklearn.metrics import classification_report, confusion_matrix, accuracy_score\n",
        "\n",
        "# Step 1: Train Random Forest model\n",
        "rf = RandomForestClassifier(n_estimators=100, random_state=42)\n",
        "rf.fit(X_train, y_train)\n",
        "\n",
        "# Step 2: Predict on the test set\n",
        "y_pred = rf.predict(X_test)\n",
        "\n",
        "# Step 3: Evaluate the model\n",
        "accuracy = accuracy_score(y_test, y_pred)\n",
        "print(f\"Accuracy: {accuracy:.2f}\")\n",
        "\n",
        "print(\"Classification Report:\")\n",
        "print(classification_report(y_test, y_pred))\n",
        "\n",
        "print(\"Confusion Matrix:\")\n",
        "print(confusion_matrix(y_test, y_pred))\n",
        "\n"
      ]
    },
    {
      "cell_type": "code",
      "execution_count": null,
      "metadata": {
        "colab": {
          "base_uri": "https://localhost:8080/",
          "height": 607
        },
        "id": "ePqolsF_s8Rj",
        "outputId": "823d5730-8b06-4a91-aa4f-e789f7cb79e0"
      },
      "outputs": [],
      "source": [
        "\n",
        "# After training `rf`\n",
        "importances = rf.feature_importances_\n",
        "features = X_train.columns\n",
        "importance_df = pd.DataFrame({'Feature': features, 'Importance': importances})\n",
        "importance_df.sort_values(by='Importance', ascending=False, inplace=True)\n",
        "\n",
        "# Plot\n",
        "importance_df.plot(kind='barh', x='Feature', y='Importance', figsize=(8, 6), legend=False)\n",
        "plt.title(\"Feature Importance (Random Forest)\")\n",
        "plt.gca().invert_yaxis()\n",
        "plt.tight_layout()\n",
        "plt.show()\n"
      ]
    },
    {
      "cell_type": "markdown",
      "metadata": {
        "id": "xzgIADB7vA0i"
      },
      "source": [
        "# Random Forest Classifier with Feature Engineering"
      ]
    },
    {
      "cell_type": "code",
      "execution_count": null,
      "metadata": {
        "colab": {
          "base_uri": "https://localhost:8080/"
        },
        "id": "u7eFAv91taco",
        "outputId": "9ffb2fb4-b736-4825-e765-b2046e939190"
      },
      "outputs": [],
      "source": [
        "from sklearn.ensemble import RandomForestClassifier\n",
        "from sklearn.metrics import classification_report, confusion_matrix, accuracy_score\n",
        "from sklearn.model_selection import train_test_split\n",
        "\n",
        "# 1. Define features and target\n",
        "selected_features = [\n",
        "    'Age', 'BMI', 'Glucose', 'DiabetesPedigreeFunction',\n",
        "    'BMI_Category_Underweight', 'BMI_Category_Normal', 'BMI_Category_Overweight', 'BMI_Category_Obese',\n",
        "    'Glucose_Category_Good', 'Glucose_Category_Broad', 'Glucose_Category_Bad'\n",
        "]\n",
        "\n",
        "X = df[selected_features]\n",
        "y = df['Outcome']\n",
        "\n",
        "# 2. Split into train and test sets\n",
        "X_train, X_test, y_train, y_test = train_test_split(X, y, test_size=0.2, random_state=42)\n",
        "\n",
        "# 3. Train Random Forest\n",
        "rf = RandomForestClassifier(n_estimators=100, random_state=42)\n",
        "rf.fit(X_train, y_train)\n",
        "\n",
        "# 4. Predict\n",
        "y_pred = rf.predict(X_test)\n",
        "\n",
        "# 5. Evaluate\n",
        "accuracy = accuracy_score(y_test, y_pred)\n",
        "print(f\"Accuracy: {accuracy:.2f}\")\n",
        "\n",
        "print(\"Classification Report:\")\n",
        "print(classification_report(y_test, y_pred))\n",
        "\n",
        "print(\"Confusion Matrix:\")\n",
        "print(confusion_matrix(y_test, y_pred))\n"
      ]
    },
    {
      "cell_type": "code",
      "execution_count": null,
      "metadata": {
        "colab": {
          "base_uri": "https://localhost:8080/"
        },
        "id": "hgGDMI8zt3R8",
        "outputId": "a8a377bf-6841-4b6d-b903-86c5cbda67d0"
      },
      "outputs": [],
      "source": [
        "from sklearn.metrics import roc_auc_score\n",
        "\n",
        "y_proba = rf.predict_proba(X_test)[:, 1]\n",
        "print(\"ROC-AUC Score:\", roc_auc_score(y_test, y_proba))\n"
      ]
    },
    {
      "cell_type": "markdown",
      "metadata": {
        "id": "2aYUsv9Gvnoh"
      },
      "source": [
        "# XGBoost with cross validation"
      ]
    },
    {
      "cell_type": "code",
      "execution_count": null,
      "metadata": {
        "colab": {
          "base_uri": "https://localhost:8080/"
        },
        "id": "wp0l1lW0u1Da",
        "outputId": "0d0c9509-2952-4fd2-bb3c-490ac0979ba1"
      },
      "outputs": [],
      "source": [
        "from xgboost import XGBClassifier\n",
        "from sklearn.metrics import classification_report, confusion_matrix, accuracy_score, roc_auc_score\n",
        "from sklearn.model_selection import train_test_split\n",
        "\n",
        "# Features\n",
        "selected_features = [\n",
        "    'Age', 'BMI', 'Glucose', 'DiabetesPedigreeFunction',\n",
        "    'BMI_Category_Underweight', 'BMI_Category_Normal', 'BMI_Category_Overweight', 'BMI_Category_Obese',\n",
        "    'Glucose_Category_Good', 'Glucose_Category_Broad', 'Glucose_Category_Bad'\n",
        "]\n",
        "# Default features\n",
        "default_features = ['Pregnancies', 'Glucose', 'BloodPressure', 'SkinThickness', 'Insulin', 'BMI', 'DiabetesPedigreeFunction', 'Age']\n",
        "\n",
        "\n",
        "X = df[selected_features]\n",
        "y = df['Outcome']\n",
        "\n",
        "# Split data\n",
        "X_train, X_test, y_train, y_test = train_test_split(X, y, test_size=0.2, random_state=42)\n",
        "\n",
        "# Initialize XGBoost model\n",
        "xgb = XGBClassifier(eval_metric='logloss', random_state=42)\n",
        "\n",
        "# Train\n",
        "xgb.fit(X_train, y_train)\n",
        "\n",
        "# Predict\n",
        "y_pred = xgb.predict(X_test)\n",
        "y_proba = xgb.predict_proba(X_test)[:, 1]\n",
        "\n",
        "# Evaluate\n",
        "print(f\"Accuracy: {accuracy_score(y_test, y_pred):.2f}\")\n",
        "print(f\"ROC-AUC: {roc_auc_score(y_test, y_proba):.2f}\")\n",
        "print(\"Classification Report:\")\n",
        "print(classification_report(y_test, y_pred))\n",
        "print(\"Confusion Matrix:\")\n",
        "print(confusion_matrix(y_test, y_pred))\n"
      ]
    },
    {
      "cell_type": "code",
      "execution_count": null,
      "metadata": {
        "colab": {
          "base_uri": "https://localhost:8080/"
        },
        "id": "9_ELh3yQxVoD",
        "outputId": "63257548-c334-45fd-809c-7dc733ea865d"
      },
      "outputs": [],
      "source": [
        "from sklearn.model_selection import GridSearchCV, StratifiedKFold\n",
        "from sklearn.metrics import make_scorer, accuracy_score\n",
        "\n",
        "\n",
        "X = df[selected_features]\n",
        "y = df['Outcome']\n",
        "\n",
        "# Define parameter grid for tuning\n",
        "param_grid = {\n",
        "    'n_estimators': [50, 100, 150],\n",
        "    'max_depth': [3, 5, 7],\n",
        "    'learning_rate': [0.01, 0.1, 0.2],\n",
        "    'subsample': [0.7, 1],\n",
        "    'colsample_bytree': [0.7, 1]\n",
        "}\n",
        "\n",
        "# Stratified k-fold for balanced splits\n",
        "skf = StratifiedKFold(n_splits=5, shuffle=True, random_state=42)\n",
        "\n",
        "# Use accuracy as scoring metric\n",
        "grid_search = GridSearchCV(estimator=xgb,\n",
        "                           param_grid=param_grid,\n",
        "                           scoring='accuracy',\n",
        "                           cv=skf,\n",
        "                           verbose=2,\n",
        "                           n_jobs=-1)\n",
        "\n",
        "# Run grid search\n",
        "grid_search.fit(X, y)\n",
        "\n",
        "# Best parameters\n",
        "print(\"Best parameters found:\", grid_search.best_params_)\n",
        "\n",
        "# Best score\n",
        "print(f\"Best cross-validated accuracy: {grid_search.best_score_:.3f}\")\n",
        "\n"
      ]
    },
    {
      "cell_type": "markdown",
      "metadata": {
        "id": "tMAsNgWW7Frf"
      },
      "source": [
        "#Random Forest with SMOTE"
      ]
    },
    {
      "cell_type": "code",
      "execution_count": null,
      "metadata": {
        "colab": {
          "base_uri": "https://localhost:8080/"
        },
        "id": "RctbgHdc7FCK",
        "outputId": "87c5bcf5-d2ae-4ef8-b4a6-3ede6a02f0ab"
      },
      "outputs": [],
      "source": [
        "from imblearn.over_sampling import SMOTE\n",
        "from sklearn.ensemble import RandomForestClassifier\n",
        "from sklearn.metrics import precision_recall_curve, classification_report, confusion_matrix, accuracy_score\n",
        "\n",
        "# 1. Balance the training data with SMOTE\n",
        "smote = SMOTE(random_state=42)\n",
        "X_train_bal, y_train_bal = smote.fit_resample(X_train, y_train)\n",
        "\n",
        "# 2. Filter valid RandomForest parameters if grid_search.best_params_ comes from another model\n",
        "rf_valid_keys = RandomForestClassifier().get_params().keys()\n",
        "rf_params = {k: v for k, v in grid_search.best_params_.items() if k in rf_valid_keys}\n",
        "\n",
        "# 3. Train Random Forest on balanced data\n",
        "rf_bal = RandomForestClassifier(**rf_params, random_state=42)\n",
        "rf_bal.fit(X_train_bal, y_train_bal)\n",
        "\n",
        "# 4. Get predicted probabilities for test set\n",
        "y_proba = rf_bal.predict_proba(X_test)[:, 1]\n",
        "\n",
        "# 5. Try different thresholds to improve recall\n",
        "precision, recall, thresholds = precision_recall_curve(y_test, y_proba)\n",
        "\n",
        "# Pick a threshold to balance recall and precision (example: 0.4)\n",
        "threshold = 0.47\n",
        "y_pred_thresh = (y_proba >= threshold).astype(int)\n",
        "\n",
        "# 6. Evaluate\n",
        "print(f\"Accuracy (threshold {threshold}): {accuracy_score(y_test, y_pred_thresh):.3f}\")\n",
        "print(classification_report(y_test, y_pred_thresh))\n",
        "print(confusion_matrix(y_test, y_pred_thresh))\n"
      ]
    },
    {
      "cell_type": "code",
      "execution_count": null,
      "metadata": {
        "colab": {
          "base_uri": "https://localhost:8080/"
        },
        "id": "b-j016yk9fgm",
        "outputId": "56c68d23-27a2-43b2-9c83-655888b461d1"
      },
      "outputs": [],
      "source": [
        "from imblearn.pipeline import Pipeline\n",
        "from imblearn.over_sampling import SMOTE\n",
        "from sklearn.preprocessing import StandardScaler\n",
        "from sklearn.ensemble import RandomForestClassifier\n",
        "import pickle\n",
        "\n",
        "# Define the full pipeline\n",
        "pipeline = Pipeline(steps=[\n",
        "    ('smote', SMOTE(random_state=42)),\n",
        "    ('scaler', StandardScaler()),\n",
        "    ('classifier', RandomForestClassifier(**rf_params, random_state=42))\n",
        "])\n",
        "\n",
        "# Fit the pipeline\n",
        "pipeline.fit(X_train, y_train)\n",
        "\n",
        "# After fitting the pipeline\n",
        "with open('model.pkl', 'wb') as f:\n",
        "    pickle.dump(pipeline, f)\n",
        "\n",
        "# Load it later like this:\n",
        "# with open('rf_full_pipeline.pkl', 'rb') as f:\n",
        "# pipeline = pickle.load(f)\n",
        "\n",
        "# Predict as usual\n",
        "# y_pred = pipeline.predict(X_test)\n"
      ]
    }
  ],
  "metadata": {
    "colab": {
      "provenance": []
    },
    "kernelspec": {
      "display_name": "Python 3",
      "language": "python",
      "name": "python3"
    },
    "language_info": {
      "codemirror_mode": {
        "name": "ipython",
        "version": 3
      },
      "file_extension": ".py",
      "mimetype": "text/x-python",
      "name": "python",
      "nbconvert_exporter": "python",
      "pygments_lexer": "ipython3",
      "version": "3.11.9"
    }
  },
  "nbformat": 4,
  "nbformat_minor": 0
}
